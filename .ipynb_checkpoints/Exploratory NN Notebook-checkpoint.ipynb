{
 "cells": [
  {
   "cell_type": "markdown",
   "id": "electrical-values",
   "metadata": {},
   "source": [
    "# Import packages "
   ]
  },
  {
   "cell_type": "code",
   "execution_count": 1,
   "id": "million-shade",
   "metadata": {
    "ExecuteTime": {
     "end_time": "2021-01-26T15:13:35.556737Z",
     "start_time": "2021-01-26T15:13:31.658370Z"
    }
   },
   "outputs": [],
   "source": [
    "import pandas as pd\n",
    "import numpy as np\n",
    "import matplotlib.pyplot as plt\n",
    "import tensorflow as tf\n",
    "from tensorflow import keras\n",
    "from tensorflow.keras.preprocessing.image import ImageDataGenerator, array_to_img, img_to_array, load_img\n",
    "from sklearn.model_selection import train_test_split\n",
    "from sklearn.utils import class_weight\n",
    "from sklearn.metrics import confusion_matrix, plot_confusion_matrix\n",
    "import seaborn as sns"
   ]
  },
  {
   "cell_type": "code",
   "execution_count": 2,
   "id": "understanding-sustainability",
   "metadata": {
    "ExecuteTime": {
     "end_time": "2021-01-26T15:14:35.466745Z",
     "start_time": "2021-01-26T15:14:32.601812Z"
    }
   },
   "outputs": [
    {
     "name": "stdout",
     "output_type": "stream",
     "text": [
      "Found 4616 images belonging to 2 classes.\n",
      "Found 640 images belonging to 2 classes.\n",
      "Found 600 images belonging to 2 classes.\n"
     ]
    }
   ],
   "source": [
    "train_data_dir = '../xrays/train'\n",
    "test_data_dir = '../xrays/test'\n",
    "val_data_dir = '../xrays/val'\n",
    "\n",
    "train_generator = ImageDataGenerator(rescale=1./255,\n",
    "                                     rotation_range=3,\n",
    "                                     width_shift_range=.05, \n",
    "                                     height_shift_range=.05,\n",
    "                                     shear_range=.05, \n",
    "                                     zoom_range=.05).flow_from_directory(train_data_dir, \n",
    "                                                                         color_mode = 'grayscale',\n",
    "                                                                         target_size = (256,256),\n",
    "                                                                         class_mode = 'binary',\n",
    "                                                                         seed = 42)\n",
    "\n",
    "test_generator = ImageDataGenerator(rescale=1./255,\n",
    "                                    rotation_range=3,\n",
    "                                    width_shift_range=.05, \n",
    "                                    height_shift_range=.05,\n",
    "                                    shear_range=.05, \n",
    "                                    zoom_range=.05).flow_from_directory(test_data_dir, \n",
    "                                                                        color_mode = 'grayscale',\n",
    "                                                                        target_size = (256,256),  \n",
    "                                                                        class_mode = 'binary',\n",
    "                                                                        shuffle = False)\n",
    "\n",
    "\n",
    "val_generator = ImageDataGenerator(rescale=1./255,\n",
    "                                   rotation_range=3,\n",
    "                                   width_shift_range=.05, \n",
    "                                   height_shift_range=.05,\n",
    "                                   shear_range=.05, \n",
    "                                   zoom_range=.05).flow_from_directory(val_data_dir, \n",
    "                                                                       color_mode = 'grayscale',\n",
    "                                                                       target_size = (256,256), \n",
    "                                                                       class_mode = 'binary',\n",
    "                                                                       shuffle = False)\n",
    "\n",
    "X_train, y_train = next(train_generator)\n",
    "X_test, y_test = next(test_generator)\n",
    "X_val, y_val = next(val_generator)"
   ]
  },
  {
   "cell_type": "code",
   "execution_count": null,
   "id": "historical-running",
   "metadata": {
    "ExecuteTime": {
     "end_time": "2021-01-26T15:14:41.220201Z",
     "start_time": "2021-01-26T15:14:41.108891Z"
    }
   },
   "outputs": [],
   "source": [
    "array_to_img(X_test[3])"
   ]
  },
  {
   "cell_type": "code",
   "execution_count": null,
   "id": "constitutional-vegetable",
   "metadata": {},
   "outputs": [],
   "source": [
    "X_test[3].std()"
   ]
  },
  {
   "cell_type": "code",
   "execution_count": null,
   "id": "vocational-mustang",
   "metadata": {},
   "outputs": [],
   "source": [
    "X_test.shape"
   ]
  },
  {
   "cell_type": "code",
   "execution_count": null,
   "id": "loving-empty",
   "metadata": {},
   "outputs": [],
   "source": [
    "X_val.shape"
   ]
  },
  {
   "cell_type": "code",
   "execution_count": null,
   "id": "grateful-tours",
   "metadata": {
    "ExecuteTime": {
     "end_time": "2021-01-26T15:14:45.642873Z",
     "start_time": "2021-01-26T15:14:45.637005Z"
    }
   },
   "outputs": [],
   "source": [
    "X_train.shape"
   ]
  },
  {
   "cell_type": "code",
   "execution_count": null,
   "id": "ordered-grade",
   "metadata": {},
   "outputs": [],
   "source": [
    "# for i in test_generator:\n",
    "#     test_generator.classes"
   ]
  },
  {
   "cell_type": "code",
   "execution_count": null,
   "id": "dietary-million",
   "metadata": {
    "ExecuteTime": {
     "end_time": "2021-01-26T15:14:50.144156Z",
     "start_time": "2021-01-26T15:14:50.137545Z"
    }
   },
   "outputs": [],
   "source": [
    "train_generator.class_indices"
   ]
  },
  {
   "cell_type": "code",
   "execution_count": null,
   "id": "sustained-serial",
   "metadata": {},
   "outputs": [],
   "source": [
    "# initializers Glora / Kaiminghe"
   ]
  },
  {
   "cell_type": "code",
   "execution_count": null,
   "id": "compact-marine",
   "metadata": {},
   "outputs": [],
   "source": [
    "# regularization rate\n",
    "from tensorflow.keras.regularizers import l2\n",
    "from tensorflow.keras.initializers import HeUniform"
   ]
  },
  {
   "cell_type": "code",
   "execution_count": null,
   "id": "breathing-perfume",
   "metadata": {},
   "outputs": [],
   "source": [
    "from tensorflow.keras.metrics import Recall, Precision, Accuracy\n",
    "\n"
   ]
  },
  {
   "cell_type": "code",
   "execution_count": null,
   "id": "simple-phone",
   "metadata": {
    "ExecuteTime": {
     "end_time": "2021-01-26T15:14:57.791825Z",
     "start_time": "2021-01-26T15:14:57.006385Z"
    }
   },
   "outputs": [],
   "source": [
    "from tensorflow.keras import models\n",
    "from tensorflow.keras.layers import Dense, Dropout, Conv2D, MaxPooling2D, Flatten, LeakyReLU, Conv2DTranspose, BatchNormalization\n",
    "from tensorflow.keras.applications import inception_v3\n",
    "from tensorflow.keras.metrics import Recall, Precision, Accuracy\n",
    "\n",
    "model = models.Sequential()\n",
    "\n",
    "model.add(Conv2D(32, (3, 3), activation='relu', kernel_initializer=HeUniform(), input_shape=(256, 256, 1)))\n",
    "model.add(MaxPooling2D((2, 2)))\n",
    "\n",
    "model.add(Conv2D(64, (3, 3), activation='relu', kernel_initializer=HeUniform()))\n",
    "model.add(MaxPooling2D((2, 2)))\n",
    "\n",
    "model.add(Conv2D(128, (3, 3), activation='relu', kernel_initializer=HeUniform()))\n",
    "model.add(MaxPooling2D((2, 2)))\n",
    "\n",
    "model.add(Conv2D(128, (3, 3), activation='relu', kernel_initializer=HeUniform()))\n",
    "model.add(MaxPooling2D((2, 2)))\n",
    "\n",
    "model.add(Flatten())\n",
    "model.add(Dropout(0.5))\n",
    "model.add(Dense(512, activation='relu', kernel_initializer=HeUniform()))\n",
    "model.add(Dense(1, activation='sigmoid'))\n",
    "\n",
    "model.summary()"
   ]
  },
  {
   "cell_type": "code",
   "execution_count": null,
   "id": "typical-buddy",
   "metadata": {},
   "outputs": [],
   "source": [
    "class_weights = dict(zip(np.unique(y_train), \n",
    "                         class_weight.compute_class_weight(classes=np.unique(y_train), \n",
    "                                                           y=y_train, class_weight='balanced')))"
   ]
  },
  {
   "cell_type": "code",
   "execution_count": null,
   "id": "amber-angola",
   "metadata": {},
   "outputs": [],
   "source": [
    "from tensorflow.keras.optimizers import Adam"
   ]
  },
  {
   "cell_type": "code",
   "execution_count": null,
   "id": "forward-breathing",
   "metadata": {},
   "outputs": [],
   "source": [
    "optimizer = Adam(learning_rate=.00005)"
   ]
  },
  {
   "cell_type": "code",
   "execution_count": null,
   "id": "alien-variance",
   "metadata": {},
   "outputs": [],
   "source": [
    "len(X_train)"
   ]
  },
  {
   "cell_type": "code",
   "execution_count": null,
   "id": "registered-differential",
   "metadata": {
    "ExecuteTime": {
     "end_time": "2021-01-26T15:15:19.899218Z",
     "start_time": "2021-01-26T15:15:03.997296Z"
    },
    "scrolled": true
   },
   "outputs": [],
   "source": [
    "num_epochs = 4\n",
    "\n",
    "model.compile(loss='binary_crossentropy',  optimizer=optimizer, metrics=['acc', Recall(), Precision()])\n",
    "\n",
    "history = model.fit(train_generator, epochs=num_epochs, steps_per_epoch=144,\n",
    "                    class_weight=class_weights, validation_data=val_generator, validation_steps = 18)"
   ]
  },
  {
   "cell_type": "code",
   "execution_count": null,
   "id": "victorian-layout",
   "metadata": {
    "scrolled": true
   },
   "outputs": [],
   "source": [
    "plt.plot(range(1,num_epochs+1), history.history['loss'], label='train loss')\n",
    "plt.plot(range(1,num_epochs+1), history.history['val_loss'], label= 'val loss')\n",
    "\n",
    "plt.legend()"
   ]
  },
  {
   "cell_type": "code",
   "execution_count": null,
   "id": "liquid-prairie",
   "metadata": {},
   "outputs": [],
   "source": [
    "plt.plot(range(1,num_epochs+1), history.history['acc'], label = 'train acc')\n",
    "plt.plot(range(1,num_epochs+1), history.history['val_acc'], label = 'val acc')\n",
    "\n",
    "\n",
    "plt.legend()"
   ]
  },
  {
   "cell_type": "code",
   "execution_count": null,
   "id": "adequate-medium",
   "metadata": {},
   "outputs": [],
   "source": []
  },
  {
   "cell_type": "code",
   "execution_count": null,
   "id": "earned-fraud",
   "metadata": {},
   "outputs": [],
   "source": [
    "model.evaluate(test_generator)"
   ]
  },
  {
   "cell_type": "code",
   "execution_count": null,
   "id": "seven-enzyme",
   "metadata": {},
   "outputs": [],
   "source": [
    "# test_generator.reset()\n",
    "# y_pred = model.predict(test_generator) > 0.5\n",
    "# classes = test_generator.classes[test_generator.index_array]\n"
   ]
  },
  {
   "cell_type": "code",
   "execution_count": null,
   "id": "linear-imagination",
   "metadata": {},
   "outputs": [],
   "source": [
    "y_true = test_generator.classes\n",
    "y_pred = model.predict(test_generator) > 0.5"
   ]
  },
  {
   "cell_type": "code",
   "execution_count": null,
   "id": "affecting-pride",
   "metadata": {},
   "outputs": [],
   "source": [
    "y_pred.squeeze().shape"
   ]
  },
  {
   "cell_type": "code",
   "execution_count": null,
   "id": "amended-event",
   "metadata": {},
   "outputs": [],
   "source": [
    "# con_mat = tf.math.confusion_matrix(y_test_full, y_pred).numpy()\n",
    "# con_mat_df = pd.DataFrame(con_mat, index=['norm', 'pneum'], columns=['norm', 'pneum'])"
   ]
  },
  {
   "cell_type": "code",
   "execution_count": null,
   "id": "suited-insured",
   "metadata": {},
   "outputs": [],
   "source": [
    "confusion_matrix(y_true, y_pred)"
   ]
  },
  {
   "cell_type": "code",
   "execution_count": null,
   "id": "expanded-accreditation",
   "metadata": {},
   "outputs": [],
   "source": [
    "len(y_pred)"
   ]
  },
  {
   "cell_type": "code",
   "execution_count": null,
   "id": "understanding-calendar",
   "metadata": {},
   "outputs": [],
   "source": [
    "(y_test_full,y_pred)"
   ]
  },
  {
   "cell_type": "code",
   "execution_count": null,
   "id": "indian-essence",
   "metadata": {},
   "outputs": [],
   "source": [
    "pca_model = models.Sequential()\n",
    "\n",
    "pca_model.add(Conv2D(32, (3, 3), activation='relu', kernel_initializer=HeNormal(), input_shape=(256, 256, 1)))\n",
    "pca_model.add(MaxPooling2D((2, 2)))\n",
    "\n",
    "pca_model.add(Conv2D(64, (3, 3), activation='relu', kernel_initializer=HeNormal()))\n",
    "pca_model.add(MaxPooling2D((2, 2)))\n",
    "\n",
    "pca_model.add(Conv2D(128, (3, 3), activation='relu', kernel_initializer=HeNormal()))\n",
    "pca_model.add(MaxPooling2D((2, 2)))\n",
    "\n",
    "pca_model.add(Conv2D(128, (3, 3), activation='relu', kernel_initializer=HeNormal()))\n",
    "pca_model.add(MaxPooling2D((2, 2)))\n",
    "\n",
    "pca_model.add(Flatten())\n",
    "pca_model.add(Dropout(0.5))\n",
    "pca_model.add(Dense(512, activation='relu'))\n",
    "pca_model.add(Dense(1, activation='sigmoid'))\n",
    "\n",
    "pca_model.summary()"
   ]
  },
  {
   "cell_type": "code",
   "execution_count": null,
   "id": "greater-robert",
   "metadata": {},
   "outputs": [],
   "source": []
  }
 ],
 "metadata": {
  "kernelspec": {
   "display_name": "Python 3",
   "language": "python",
   "name": "python3"
  },
  "language_info": {
   "codemirror_mode": {
    "name": "ipython",
    "version": 3
   },
   "file_extension": ".py",
   "mimetype": "text/x-python",
   "name": "python",
   "nbconvert_exporter": "python",
   "pygments_lexer": "ipython3",
   "version": "3.6.9"
  },
  "latex_envs": {
   "LaTeX_envs_menu_present": true,
   "autoclose": false,
   "autocomplete": true,
   "bibliofile": "biblio.bib",
   "cite_by": "apalike",
   "current_citInitial": 1,
   "eqLabelWithNumbers": true,
   "eqNumInitial": 1,
   "hotkeys": {
    "equation": "Ctrl-E",
    "itemize": "Ctrl-I"
   },
   "labels_anchors": false,
   "latex_user_defs": false,
   "report_style_numbering": false,
   "user_envs_cfg": false
  }
 },
 "nbformat": 4,
 "nbformat_minor": 5
}
